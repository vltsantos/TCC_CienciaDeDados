{
  "nbformat": 4,
  "nbformat_minor": 0,
  "metadata": {
    "colab": {
      "provenance": []
    },
    "kernelspec": {
      "name": "python3",
      "display_name": "Python 3"
    },
    "language_info": {
      "name": "python"
    }
  },
  "cells": [
    {
      "cell_type": "code",
      "execution_count": 13,
      "metadata": {
        "colab": {
          "base_uri": "https://localhost:8080/"
        },
        "id": "r57bRabzblhW",
        "outputId": "d7f7bcd0-3574-42dd-a0a4-0636b5e57d9f"
      },
      "outputs": [
        {
          "output_type": "stream",
          "name": "stdout",
          "text": [
            "Drive already mounted at /content/drive; to attempt to forcibly remount, call drive.mount(\"/content/drive\", force_remount=True).\n"
          ]
        },
        {
          "output_type": "stream",
          "name": "stderr",
          "text": [
            "<ipython-input-13-46d299b93ca8>:12: DtypeWarning: Columns (2,4) have mixed types. Specify dtype option on import or set low_memory=False.\n",
            "  df = pd.read_csv(file_path)\n"
          ]
        },
        {
          "output_type": "stream",
          "name": "stdout",
          "text": [
            "MSE: 0.00\n",
            "R²: 0.75\n",
            "                variavel  importancia\n",
            "2  numero_dias_sem_chuva     0.282696\n",
            "1              longitude     0.264080\n",
            "0               latitude     0.253298\n",
            "3           precipitacao     0.168893\n",
            "5             umidade_ar     0.030980\n",
            "4            temperatura     0.000032\n",
            "6       vento_velocidade     0.000022\n"
          ]
        }
      ],
      "source": [
        "from google.colab import drive\n",
        "drive.mount('/content/drive')\n",
        "import pandas as pd\n",
        "from sklearn.ensemble import RandomForestRegressor\n",
        "from sklearn.model_selection import train_test_split\n",
        "from sklearn.metrics import mean_squared_error, r2_score\n",
        "from sklearn.preprocessing import StandardScaler\n",
        "from sklearn.impute import SimpleImputer\n",
        "\n",
        "file_path = '/content/drive/My Drive/ML/tabela_join.csv'\n",
        "df = pd.read_csv(file_path)\n",
        "\n",
        "# Definição de variáveis independentes (X) e variável dependente (y)\n",
        "X = df[['latitude', 'longitude', 'numero_dias_sem_chuva', 'precipitacao', 'temperatura', 'umidade_ar', 'vento_velocidade']]\n",
        "y = df['risco_fogo']\n",
        "\n",
        "# Preenchimento dos valores NaN em X e y com mediana\n",
        "imputer_X = SimpleImputer(strategy='median')\n",
        "imputer_y = SimpleImputer(strategy='median')\n",
        "\n",
        "X = pd.DataFrame(imputer_X.fit_transform(X), columns=X.columns)\n",
        "y = pd.Series(imputer_y.fit_transform(y.values.reshape(-1, 1)).flatten())\n",
        "\n",
        "# Divisão em treino e teste\n",
        "X_treino, X_teste, y_treino, y_teste = train_test_split(X, y, test_size=0.2, random_state=42)\n",
        "\n",
        "# Normalização dos dados\n",
        "scaler = StandardScaler()\n",
        "X_treino = scaler.fit_transform(X_treino)\n",
        "X_teste = scaler.transform(X_teste)\n",
        "\n",
        "# Criação do modelo de Random Forest\n",
        "modelo = RandomForestRegressor(n_estimators=100, random_state=42)\n",
        "\n",
        "# Treino\n",
        "modelo.fit(X_treino, y_treino)\n",
        "\n",
        "# Previsões\n",
        "y_previsto = modelo.predict(X_teste)\n",
        "\n",
        "# Avaliação do modelo\n",
        "mse = mean_squared_error(y_teste, y_previsto)\n",
        "r2 = r2_score(y_teste, y_previsto)\n",
        "print(f'MSE: {mse:.2f}')\n",
        "print(f'R²: {r2:.2f}')\n",
        "\n",
        "# Importância das variáveis\n",
        "importancia = pd.DataFrame({'variavel': X.columns, 'importancia': modelo.feature_importances_})\n",
        "print(importancia.sort_values('importancia', ascending=False))"
      ]
    }
  ]
}