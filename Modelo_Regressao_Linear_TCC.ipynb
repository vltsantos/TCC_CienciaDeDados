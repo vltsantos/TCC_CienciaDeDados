{
  "nbformat": 4,
  "nbformat_minor": 0,
  "metadata": {
    "colab": {
      "provenance": []
    },
    "kernelspec": {
      "name": "python3",
      "display_name": "Python 3"
    },
    "language_info": {
      "name": "python"
    }
  },
  "cells": [
    {
      "cell_type": "code",
      "source": [
        "from google.colab import drive\n",
        "drive.mount('/content/drive')\n",
        "import pandas as pd\n",
        "from sklearn.model_selection import train_test_split\n",
        "from sklearn.linear_model import LinearRegression\n",
        "from sklearn.metrics import mean_squared_error, r2_score\n",
        "from sklearn.preprocessing import LabelEncoder\n",
        "\n",
        "file_path = '/content/drive/My Drive/ML/tabela_join.csv'\n",
        "data = pd.read_csv(file_path)\n",
        "\n",
        "#Preenchimento de NaNs apenas nas colunas numéricas\n",
        "numeric_cols = data.select_dtypes(include=['float64', 'int']).columns\n",
        "data[numeric_cols] = data[numeric_cols].fillna(data[numeric_cols].mean())\n",
        "\n",
        "# Remoção de linhas com NaNs restantes\n",
        "data = data.dropna()\n",
        "\n",
        "# Codificar a variável dependente categórica\n",
        "label_encoder = LabelEncoder()\n",
        "data['satelite'] = label_encoder.fit_transform(data['satelite'])\n",
        "\n",
        "# Preparação dos dados\n",
        "X = data[['latitude', 'longitude', 'numero_dias_sem_chuva', 'precipitacao', 'risco_fogo', 'frp', 'temperatura', 'umidade_ar', 'vento_velocidade']]\n",
        "y = data['satelite']  # Agora é numérico\n",
        "\n",
        "# Conjuntos de treino e teste\n",
        "X_train, X_test, y_train, y_test = train_test_split(X, y, test_size=0.2, random_state=42)\n",
        "\n",
        "# Criação e treino do modelo\n",
        "model = LinearRegression()\n",
        "model.fit(X_train, y_train)\n",
        "\n",
        "# Fazer previsões\n",
        "y_pred = model.predict(X_test)\n",
        "\n",
        "# Avaliação do modelo\n",
        "mse = mean_squared_error(y_test, y_pred)\n",
        "r2 = r2_score(y_test, y_pred)\n",
        "\n",
        "print(f'Mean Squared Error: {mse}')\n",
        "print(f'R^2 Score: {r2}')\n"
      ],
      "metadata": {
        "colab": {
          "base_uri": "https://localhost:8080/"
        },
        "id": "3Lq1dNKWr83J",
        "outputId": "caa831ce-81da-4507-9ed6-221aa2b46a23"
      },
      "execution_count": null,
      "outputs": [
        {
          "output_type": "stream",
          "name": "stdout",
          "text": [
            "Drive already mounted at /content/drive; to attempt to forcibly remount, call drive.mount(\"/content/drive\", force_remount=True).\n"
          ]
        },
        {
          "output_type": "stream",
          "name": "stderr",
          "text": [
            "<ipython-input-5-c8db4daf47e5>:11: DtypeWarning: Columns (2,4) have mixed types. Specify dtype option on import or set low_memory=False.\n",
            "  data = pd.read_csv(file_path)\n"
          ]
        },
        {
          "output_type": "stream",
          "name": "stdout",
          "text": [
            "Mean Squared Error: 22.566515714001707\n",
            "R^2 Score: 0.13564183434116228\n"
          ]
        }
      ]
    }
  ]
}