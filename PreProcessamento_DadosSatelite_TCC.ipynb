{
  "nbformat": 4,
  "nbformat_minor": 0,
  "metadata": {
    "colab": {
      "provenance": []
    },
    "kernelspec": {
      "name": "python3",
      "display_name": "Python 3"
    },
    "language_info": {
      "name": "python"
    }
  },
  "cells": [
    {
      "cell_type": "code",
      "execution_count": null,
      "metadata": {
        "colab": {
          "base_uri": "https://localhost:8080/"
        },
        "id": "xHbZOxo8SX6E",
        "outputId": "f98a5eaf-b2d9-43be-9d04-e77c8848b7ba"
      },
      "outputs": [
        {
          "output_type": "stream",
          "name": "stdout",
          "text": [
            "Mounted at /content/drive\n"
          ]
        }
      ],
      "source": [
        "from google.colab import drive\n",
        "drive.mount('/content/drive')\n",
        "!ls '/content/drive/My Drive/ML/INPE'\n",
        "import pandas as pd\n",
        "# Filtragem para Nordeste\n",
        "arquivos = ['/content/drive/My Drive/ML/INPE/focos_br_todos-sats_2018.csv',\n",
        "    '/content/drive/My Drive/ML/INPE/focos_br_todos-sats_2019.csv',\n",
        "    '/content/drive/My Drive/ML/INPE/focos_br_todos-sats_2020.csv',\n",
        "    '/content/drive/My Drive/ML/INPE/focos_br_todos-sats_2021.csv',\n",
        "    '/content/drive/My Drive/ML/INPE/focos_br_todos-sats_2022.csv',\n",
        "    '/content/drive/My Drive/ML/INPE/focos_br_todos-sats_2023.csv']\n",
        "estados_nordeste = ['ALAGOAS', 'BAHIA', 'CEARÁ', 'MARANHÃO', 'PARAÍBA',\n",
        "    'PERNAMBUCO', 'PIAUÍ', 'RIO GRANDE DO NORTE', 'SERGIPE']\n",
        "for file_path in arquivos:\n",
        "    df = pd.read_csv(file_path)\n",
        "    df['estado'] = df['estado'].str.strip().str.upper()\n",
        "    df_nordeste = df[df['estado'].isin(estados_nordeste)]\n",
        "    print(f\"\\nNúmero de registros da região Nordeste no arquivo {file_path}:\n",
        "     {df_nordeste.shape[0]}\")\n",
        "    new_file_path = file_path.replace('.csv', '_nordeste.csv')\n",
        "    df_nordeste.to_csv(new_file_path, index=False)\n",
        "    print(f\"Arquivo filtrado salvo em: {new_file_path}\")\n",
        "\n",
        "# Concatenação dos arquivos anuais\n",
        "arquivos_filtrados = [\n",
        "    '/content/drive/My Drive/ML/INPE/focos_br_todos-sats_2018_nordeste.csv',\n",
        "    '/content/drive/My Drive/ML/INPE/focos_br_todos-sats_2019_nordeste.csv',\n",
        "    '/content/drive/My Drive/ML/INPE/focos_br_todos-sats_2020_nordeste.csv',\n",
        "    '/content/drive/My Drive/ML/INPE/focos_br_todos-sats_2021_nordeste.csv',\n",
        "    '/content/drive/My Drive/ML/INPE/focos_br_todos-sats_2022_nordeste.csv',\n",
        "    '/content/drive/My Drive/ML/INPE/focos_br_todos-sats_2023_nordeste.csv']\n",
        "dfs = []\n",
        "for file_path in arquivos_filtrados:\n",
        "    df = pd.read_csv(file_path)\n",
        "    dfs.append(df)\n",
        "df_final = pd.concat(dfs, ignore_index=True)\n",
        "output_file = '/content/drive/My Drive/ML/INPE/satelite_18_23.csv'\n",
        "df_final.to_csv(output_file, index=False)\n",
        "print(f\"Arquivo concatenado salvo em: {output_file}\")\n",
        "satelite = pd.read_csv('/content/drive/My Drive/ML/INPE/satelite_18_23.csv')\n",
        "del satelite[\"id_area_industrial\"]\n"
      ]
    },
    {
      "cell_type": "code",
      "source": [
        "!ls /content/drive/My\\ Drive\n"
      ],
      "metadata": {
        "colab": {
          "base_uri": "https://localhost:8080/"
        },
        "id": "GXtoT_s9Szl8",
        "outputId": "615682be-9ef4-49c9-cf34-2c4f768a143d"
      },
      "execution_count": null,
      "outputs": [
        {
          "output_type": "stream",
          "name": "stdout",
          "text": [
            "'ajb-uvsu-fpb – 18 de ago. de 2021.gjam'   Orcamento_Mensal_2020.gsheet\n",
            "'Apresentação sem título.gslides'\t   Orcamento_Mensal_2020.xlsx\n",
            "'Atividade Aula 2.gdoc'\t\t\t  'Orçamento mensal.gsheet'\n",
            "'cartaovacina_ValterSantos (1).jpeg'\t  'Planejamento Financeiro 2024 - Valter.gsheet'\n",
            " cartaovacina_ValterSantos.jpeg\t\t  'Planilha ressetorização 2020.gsheet'\n",
            " Classroom\t\t\t\t  'Planilha sem título (1).gsheet'\n",
            "'Colab Notebooks'\t\t\t  'Planilha sem título.gsheet'\n",
            "'Cópia de train.csv.gsheet'\t\t  'qual o hardware do smartwatch gtr2 (1).gsheet'\n",
            " curso-41328-aula-00-v1.pdf\t\t  'qual o hardware do smartwatch gtr2.gsheet'\n",
            "'Estados_Unidades_Federacao (1).rar'\t  'Salaries (1).csv.gsheet'\n",
            " Estados_Unidades_Federacao.rar\t\t   Salaries.csv.gsheet\n",
            " Eunnyce.gsheet\t\t\t\t   Situação.gform\n",
            " exemplo.csv.gsheet\t\t\t   Takeout\n",
            " Geoprocessamento2o2014.xlsx\t\t   Tatiane.gform\n",
            " Geoprocessamento2o2014.xlsx.gsheet\t   Tatiane.gsheet\n",
            "'Google Earth'\t\t\t\t  'train (1).csv.gsheet'\n",
            "'Investimentos (1).gsheet'\t\t  'train (2).csv.gsheet'\n",
            " Investimentos.gsheet\t\t\t  'train (3).csv.gsheet'\n",
            " ML\t\t\t\t\t  'train (4).csv.gsheet'\n",
            "'Orçamento anual.gsheet'\t\t   train.csv.gsheet\n",
            "'Orcamento_Mensal_2020 (1).gsheet'\t   unidade_federacao.rar\n"
          ]
        }
      ]
    },
    {
      "cell_type": "code",
      "source": [
        "!ls '/content/drive/My Drive/ML/INPE'\n"
      ],
      "metadata": {
        "colab": {
          "base_uri": "https://localhost:8080/"
        },
        "id": "cezl4OdIS68d",
        "outputId": "d1c9211a-3235-4b42-963f-879fb4d9b0f8"
      },
      "execution_count": null,
      "outputs": [
        {
          "output_type": "stream",
          "name": "stdout",
          "text": [
            "focos_br_todos-sats_2018.csv  focos_br_todos-sats_2020.csv  focos_br_todos-sats_2022.csv\n",
            "focos_br_todos-sats_2019.csv  focos_br_todos-sats_2021.csv  focos_br_todos-sats_2023.csv\n"
          ]
        }
      ]
    },
    {
      "cell_type": "code",
      "source": [
        "import pandas as pd\n",
        "# lista de arquivos\n",
        "arquivos = [\n",
        "    '/content/drive/My Drive/ML/INPE/focos_br_todos-sats_2018.csv',\n",
        "    '/content/drive/My Drive/ML/INPE/focos_br_todos-sats_2019.csv',\n",
        "    '/content/drive/My Drive/ML/INPE/focos_br_todos-sats_2020.csv',\n",
        "    '/content/drive/My Drive/ML/INPE/focos_br_todos-sats_2021.csv',\n",
        "    '/content/drive/My Drive/ML/INPE/focos_br_todos-sats_2022.csv',\n",
        "    '/content/drive/My Drive/ML/INPE/focos_br_todos-sats_2023.csv']\n",
        "estados_nordeste = [\n",
        "    'ALAGOAS', 'BAHIA', 'CEARÁ', 'MARANHÃO', 'PARAÍBA',\n",
        "    'PERNAMBUCO', 'PIAUÍ', 'RIO GRANDE DO NORTE', 'SERGIPE']\n",
        "# Loop para processar cada arquivo individualmente\n",
        "for file_path in arquivos:\n",
        "    df = pd.read_csv(file_path)\n",
        "    df['estado'] = df['estado'].str.strip().str.upper()\n",
        "    df_nordeste = df[df['estado'].isin(estados_nordeste)]\n",
        "    print(f\"\\nNúmero de registros da região Nordeste no arquivo {file_path}: {df_nordeste.shape[0]}\")\n",
        "    new_file_path = file_path.replace('.csv', '_nordeste.csv')\n",
        "    df_nordeste.to_csv(new_file_path, index=False)\n"
      ],
      "metadata": {
        "colab": {
          "base_uri": "https://localhost:8080/"
        },
        "id": "wbv3dLxstAb0",
        "outputId": "902fc086-bfcb-4472-c75a-17b2ce906a5b"
      },
      "execution_count": null,
      "outputs": [
        {
          "output_type": "stream",
          "name": "stdout",
          "text": [
            "\n",
            "Número de registros da região Nordeste no arquivo /content/drive/My Drive/ML/INPE/focos_br_todos-sats_2018.csv: 478517\n",
            "Arquivo filtrado salvo em: /content/drive/My Drive/ML/INPE/focos_br_todos-sats_2018_nordeste.csv\n",
            "\n",
            "Número de registros da região Nordeste no arquivo /content/drive/My Drive/ML/INPE/focos_br_todos-sats_2019.csv: 897198\n",
            "Arquivo filtrado salvo em: /content/drive/My Drive/ML/INPE/focos_br_todos-sats_2019_nordeste.csv\n",
            "\n",
            "Número de registros da região Nordeste no arquivo /content/drive/My Drive/ML/INPE/focos_br_todos-sats_2020.csv: 910832\n",
            "Arquivo filtrado salvo em: /content/drive/My Drive/ML/INPE/focos_br_todos-sats_2020_nordeste.csv\n",
            "\n",
            "Número de registros da região Nordeste no arquivo /content/drive/My Drive/ML/INPE/focos_br_todos-sats_2021.csv: 1155297\n",
            "Arquivo filtrado salvo em: /content/drive/My Drive/ML/INPE/focos_br_todos-sats_2021_nordeste.csv\n",
            "\n",
            "Número de registros da região Nordeste no arquivo /content/drive/My Drive/ML/INPE/focos_br_todos-sats_2022.csv: 1065143\n",
            "Arquivo filtrado salvo em: /content/drive/My Drive/ML/INPE/focos_br_todos-sats_2022_nordeste.csv\n",
            "\n",
            "Número de registros da região Nordeste no arquivo /content/drive/My Drive/ML/INPE/focos_br_todos-sats_2023.csv: 1348678\n",
            "Arquivo filtrado salvo em: /content/drive/My Drive/ML/INPE/focos_br_todos-sats_2023_nordeste.csv\n"
          ]
        }
      ]
    },
    {
      "cell_type": "code",
      "source": [
        "import pandas as pd\n",
        "\n",
        "# Definir a lista de arquivos filtrados\n",
        "arquivos_filtrados = [\n",
        "    '/content/drive/My Drive/ML/INPE/focos_br_todos-sats_2018_nordeste.csv',\n",
        "    '/content/drive/My Drive/ML/INPE/focos_br_todos-sats_2019_nordeste.csv',\n",
        "    '/content/drive/My Drive/ML/INPE/focos_br_todos-sats_2020_nordeste.csv',\n",
        "    '/content/drive/My Drive/ML/INPE/focos_br_todos-sats_2021_nordeste.csv',\n",
        "    '/content/drive/My Drive/ML/INPE/focos_br_todos-sats_2022_nordeste.csv',\n",
        "    '/content/drive/My Drive/ML/INPE/focos_br_todos-sats_2023_nordeste.csv'\n",
        "]\n",
        "\n",
        "# Lista para armazenar os DataFrames\n",
        "dfs = []\n",
        "# Loop para lista de DataFrames\n",
        "for file_path in arquivos_filtrados:\n",
        "    df = pd.read_csv(file_path)\n",
        "    dfs.append(df)\n",
        "# Concatenar todos os DataFrames em um único DataFrame\n",
        "df_final = pd.concat(dfs, ignore_index=True)\n",
        "output_file = '/content/drive/My Drive/ML/INPE/satelite_18_23.csv'\n",
        "df_final.to_csv(output_file, index=False)\n",
        "\n"
      ],
      "metadata": {
        "colab": {
          "base_uri": "https://localhost:8080/"
        },
        "id": "5LMc8GWeyc5Z",
        "outputId": "3c61807f-56ff-434e-9449-fb8c6fe4d25e"
      },
      "execution_count": null,
      "outputs": [
        {
          "output_type": "stream",
          "name": "stdout",
          "text": [
            "Arquivo concatenado salvo em: /content/drive/My Drive/ML/INPE/satelite_18_23.csv\n"
          ]
        }
      ]
    }
  ]
}